{
 "cells": [
  {
   "cell_type": "markdown",
   "metadata": {
    "papermill": {
     "duration": 0.024742,
     "end_time": "2020-10-06T20:43:11.463357",
     "exception": false,
     "start_time": "2020-10-06T20:43:11.438615",
     "status": "completed"
    },
    "tags": []
   },
   "source": [
    "# Predicting House Prices Using the Ames Iowa Dataset"
   ]
  },
  {
   "cell_type": "markdown",
   "metadata": {
    "papermill": {
     "duration": 0.023421,
     "end_time": "2020-10-06T20:43:11.510616",
     "exception": false,
     "start_time": "2020-10-06T20:43:11.487195",
     "status": "completed"
    },
    "tags": []
   },
   "source": [
    "## Exploratory data analysis and initial cleaning"
   ]
  },
  {
   "cell_type": "code",
   "execution_count": 1,
   "metadata": {
    "execution": {
     "iopub.execute_input": "2020-10-06T20:43:11.565830Z",
     "iopub.status.busy": "2020-10-06T20:43:11.564687Z",
     "iopub.status.idle": "2020-10-06T20:43:11.568365Z",
     "shell.execute_reply": "2020-10-06T20:43:11.567718Z"
    },
    "papermill": {
     "duration": 0.03399,
     "end_time": "2020-10-06T20:43:11.568501",
     "exception": false,
     "start_time": "2020-10-06T20:43:11.534511",
     "status": "completed"
    },
    "tags": []
   },
   "outputs": [],
   "source": [
    "# Importing and specifying some of the relevant elements\n",
    "\n",
    "seed = 0\n",
    "import numpy as np\n",
    "import pandas as pd\n",
    "\n",
    "pd.set_option('display.max_rows', 500)\n",
    "pd.set_option('display.max_columns', 500)\n",
    "pd.set_option('display.width', 1000)"
   ]
  },
  {
   "cell_type": "code",
   "execution_count": 2,
   "metadata": {
    "_cell_guid": "b1076dfc-b9ad-4769-8c92-a6c4dae69d19",
    "_uuid": "8f2839f25d086af736a60e9eeb907d3b93b6e0e5",
    "execution": {
     "iopub.execute_input": "2020-10-06T20:43:11.629753Z",
     "iopub.status.busy": "2020-10-06T20:43:11.628984Z",
     "iopub.status.idle": "2020-10-06T20:43:11.703538Z",
     "shell.execute_reply": "2020-10-06T20:43:11.702853Z"
    },
    "papermill": {
     "duration": 0.110994,
     "end_time": "2020-10-06T20:43:11.703670",
     "exception": false,
     "start_time": "2020-10-06T20:43:11.592676",
     "status": "completed"
    },
    "tags": []
   },
   "outputs": [],
   "source": [
    "df = pd.read_csv('../input/housing/AmesHousing.csv')"
   ]
  },
  {
   "cell_type": "markdown",
   "metadata": {
    "papermill": {
     "duration": 0.023864,
     "end_time": "2020-10-06T20:43:11.753273",
     "exception": false,
     "start_time": "2020-10-06T20:43:11.729409",
     "status": "completed"
    },
    "tags": []
   },
   "source": [
    "**Note**: To understand the features of the dataset refer to its [data-description file](https://s3.amazonaws.com/dq-content/307/data_description.txt)."
   ]
  },
  {
   "cell_type": "code",
   "execution_count": 3,
   "metadata": {
    "execution": {
     "iopub.execute_input": "2020-10-06T20:43:11.807249Z",
     "iopub.status.busy": "2020-10-06T20:43:11.806472Z",
     "iopub.status.idle": "2020-10-06T20:43:11.827740Z",
     "shell.execute_reply": "2020-10-06T20:43:11.828659Z"
    },
    "papermill": {
     "duration": 0.051686,
     "end_time": "2020-10-06T20:43:11.828902",
     "exception": false,
     "start_time": "2020-10-06T20:43:11.777216",
     "status": "completed"
    },
    "tags": []
   },
   "outputs": [
    {
     "name": "stdout",
     "output_type": "stream",
     "text": [
      "Rows and columns: (2930, 82)\n",
      "Total null values: 13997\n"
     ]
    }
   ],
   "source": [
    "print(\"Rows and columns:\", df.shape)\n",
    "print(\"Total null values:\", df.isnull().sum().sum())"
   ]
  },
  {
   "cell_type": "code",
   "execution_count": 4,
   "metadata": {
    "_cell_guid": "79c7e3d0-c299-4dcb-8224-4455121ee9b0",
    "_uuid": "d629ff2d2480ee46fbb7e2d37f6b5fab8052498a",
    "execution": {
     "iopub.execute_input": "2020-10-06T20:43:11.901042Z",
     "iopub.status.busy": "2020-10-06T20:43:11.900199Z",
     "iopub.status.idle": "2020-10-06T20:43:12.014915Z",
     "shell.execute_reply": "2020-10-06T20:43:12.015511Z"
    },
    "papermill": {
     "duration": 0.160918,
     "end_time": "2020-10-06T20:43:12.015665",
     "exception": false,
     "start_time": "2020-10-06T20:43:11.854747",
     "status": "completed"
    },
    "tags": []
   },
   "outputs": [
    {
     "data": {
      "text/html": [
       "<div>\n",
       "<style scoped>\n",
       "    .dataframe tbody tr th:only-of-type {\n",
       "        vertical-align: middle;\n",
       "    }\n",
       "\n",
       "    .dataframe tbody tr th {\n",
       "        vertical-align: top;\n",
       "    }\n",
       "\n",
       "    .dataframe thead th {\n",
       "        text-align: right;\n",
       "    }\n",
       "</style>\n",
       "<table border=\"1\" class=\"dataframe\">\n",
       "  <thead>\n",
       "    <tr style=\"text-align: right;\">\n",
       "      <th></th>\n",
       "      <th>Pool QC</th>\n",
       "      <th>Misc Feature</th>\n",
       "      <th>Alley</th>\n",
       "      <th>Fence</th>\n",
       "      <th>Fireplace Qu</th>\n",
       "      <th>Lot Frontage</th>\n",
       "      <th>Garage Cond</th>\n",
       "      <th>Garage Finish</th>\n",
       "      <th>Garage Yr Blt</th>\n",
       "      <th>Garage Qual</th>\n",
       "      <th>Garage Type</th>\n",
       "      <th>Bsmt Exposure</th>\n",
       "      <th>BsmtFin Type 2</th>\n",
       "      <th>Bsmt Qual</th>\n",
       "      <th>Bsmt Cond</th>\n",
       "      <th>BsmtFin Type 1</th>\n",
       "      <th>Mas Vnr Area</th>\n",
       "      <th>Mas Vnr Type</th>\n",
       "      <th>Bsmt Full Bath</th>\n",
       "      <th>Bsmt Half Bath</th>\n",
       "      <th>BsmtFin SF 1</th>\n",
       "      <th>Garage Cars</th>\n",
       "      <th>Electrical</th>\n",
       "      <th>Total Bsmt SF</th>\n",
       "      <th>Bsmt Unf SF</th>\n",
       "      <th>BsmtFin SF 2</th>\n",
       "      <th>Garage Area</th>\n",
       "      <th>Paved Drive</th>\n",
       "      <th>Full Bath</th>\n",
       "      <th>Half Bath</th>\n",
       "      <th>Bedroom AbvGr</th>\n",
       "      <th>Kitchen AbvGr</th>\n",
       "      <th>Kitchen Qual</th>\n",
       "      <th>TotRms AbvGrd</th>\n",
       "      <th>Sale Condition</th>\n",
       "      <th>Sale Type</th>\n",
       "      <th>Yr Sold</th>\n",
       "      <th>Mo Sold</th>\n",
       "      <th>Misc Val</th>\n",
       "      <th>Functional</th>\n",
       "      <th>Fireplaces</th>\n",
       "      <th>Pool Area</th>\n",
       "      <th>Screen Porch</th>\n",
       "      <th>3Ssn Porch</th>\n",
       "      <th>Enclosed Porch</th>\n",
       "      <th>Open Porch SF</th>\n",
       "      <th>Wood Deck SF</th>\n",
       "      <th>Order</th>\n",
       "      <th>Heating QC</th>\n",
       "      <th>Gr Liv Area</th>\n",
       "      <th>Overall Qual</th>\n",
       "      <th>MS SubClass</th>\n",
       "      <th>MS Zoning</th>\n",
       "      <th>Lot Area</th>\n",
       "      <th>Street</th>\n",
       "      <th>Lot Shape</th>\n",
       "      <th>Land Contour</th>\n",
       "      <th>Utilities</th>\n",
       "      <th>Lot Config</th>\n",
       "      <th>Land Slope</th>\n",
       "      <th>Neighborhood</th>\n",
       "      <th>Condition 1</th>\n",
       "      <th>Condition 2</th>\n",
       "      <th>Bldg Type</th>\n",
       "      <th>House Style</th>\n",
       "      <th>Overall Cond</th>\n",
       "      <th>Low Qual Fin SF</th>\n",
       "      <th>Year Built</th>\n",
       "      <th>Year Remod/Add</th>\n",
       "      <th>Roof Style</th>\n",
       "      <th>Roof Matl</th>\n",
       "      <th>Exterior 1st</th>\n",
       "      <th>Exterior 2nd</th>\n",
       "      <th>Exter Qual</th>\n",
       "      <th>Exter Cond</th>\n",
       "      <th>Foundation</th>\n",
       "      <th>Heating</th>\n",
       "      <th>PID</th>\n",
       "      <th>Central Air</th>\n",
       "      <th>1st Flr SF</th>\n",
       "      <th>2nd Flr SF</th>\n",
       "      <th>SalePrice</th>\n",
       "    </tr>\n",
       "  </thead>\n",
       "  <tbody>\n",
       "    <tr>\n",
       "      <th>count_null</th>\n",
       "      <td>2917</td>\n",
       "      <td>2824</td>\n",
       "      <td>2732</td>\n",
       "      <td>2358</td>\n",
       "      <td>1422</td>\n",
       "      <td>490</td>\n",
       "      <td>159</td>\n",
       "      <td>159</td>\n",
       "      <td>159</td>\n",
       "      <td>159</td>\n",
       "      <td>157</td>\n",
       "      <td>83</td>\n",
       "      <td>81</td>\n",
       "      <td>80</td>\n",
       "      <td>80</td>\n",
       "      <td>80</td>\n",
       "      <td>23</td>\n",
       "      <td>23</td>\n",
       "      <td>2</td>\n",
       "      <td>2</td>\n",
       "      <td>1</td>\n",
       "      <td>1</td>\n",
       "      <td>1</td>\n",
       "      <td>1</td>\n",
       "      <td>1</td>\n",
       "      <td>1</td>\n",
       "      <td>1</td>\n",
       "      <td>0</td>\n",
       "      <td>0</td>\n",
       "      <td>0</td>\n",
       "      <td>0</td>\n",
       "      <td>0</td>\n",
       "      <td>0</td>\n",
       "      <td>0</td>\n",
       "      <td>0</td>\n",
       "      <td>0</td>\n",
       "      <td>0</td>\n",
       "      <td>0</td>\n",
       "      <td>0</td>\n",
       "      <td>0</td>\n",
       "      <td>0</td>\n",
       "      <td>0</td>\n",
       "      <td>0</td>\n",
       "      <td>0</td>\n",
       "      <td>0</td>\n",
       "      <td>0</td>\n",
       "      <td>0</td>\n",
       "      <td>0</td>\n",
       "      <td>0</td>\n",
       "      <td>0</td>\n",
       "      <td>0</td>\n",
       "      <td>0</td>\n",
       "      <td>0</td>\n",
       "      <td>0</td>\n",
       "      <td>0</td>\n",
       "      <td>0</td>\n",
       "      <td>0</td>\n",
       "      <td>0</td>\n",
       "      <td>0</td>\n",
       "      <td>0</td>\n",
       "      <td>0</td>\n",
       "      <td>0</td>\n",
       "      <td>0</td>\n",
       "      <td>0</td>\n",
       "      <td>0</td>\n",
       "      <td>0</td>\n",
       "      <td>0</td>\n",
       "      <td>0</td>\n",
       "      <td>0</td>\n",
       "      <td>0</td>\n",
       "      <td>0</td>\n",
       "      <td>0</td>\n",
       "      <td>0</td>\n",
       "      <td>0</td>\n",
       "      <td>0</td>\n",
       "      <td>0</td>\n",
       "      <td>0</td>\n",
       "      <td>0</td>\n",
       "      <td>0</td>\n",
       "      <td>0</td>\n",
       "      <td>0</td>\n",
       "      <td>0</td>\n",
       "    </tr>\n",
       "    <tr>\n",
       "      <th>percent_null</th>\n",
       "      <td>99.5563</td>\n",
       "      <td>96.3823</td>\n",
       "      <td>93.2423</td>\n",
       "      <td>80.4778</td>\n",
       "      <td>48.5324</td>\n",
       "      <td>16.7235</td>\n",
       "      <td>5.42662</td>\n",
       "      <td>5.42662</td>\n",
       "      <td>5.42662</td>\n",
       "      <td>5.42662</td>\n",
       "      <td>5.35836</td>\n",
       "      <td>2.83276</td>\n",
       "      <td>2.76451</td>\n",
       "      <td>2.73038</td>\n",
       "      <td>2.73038</td>\n",
       "      <td>2.73038</td>\n",
       "      <td>0.784983</td>\n",
       "      <td>0.784983</td>\n",
       "      <td>0.0682594</td>\n",
       "      <td>0.0682594</td>\n",
       "      <td>0.0341297</td>\n",
       "      <td>0.0341297</td>\n",
       "      <td>0.0341297</td>\n",
       "      <td>0.0341297</td>\n",
       "      <td>0.0341297</td>\n",
       "      <td>0.0341297</td>\n",
       "      <td>0.0341297</td>\n",
       "      <td>0</td>\n",
       "      <td>0</td>\n",
       "      <td>0</td>\n",
       "      <td>0</td>\n",
       "      <td>0</td>\n",
       "      <td>0</td>\n",
       "      <td>0</td>\n",
       "      <td>0</td>\n",
       "      <td>0</td>\n",
       "      <td>0</td>\n",
       "      <td>0</td>\n",
       "      <td>0</td>\n",
       "      <td>0</td>\n",
       "      <td>0</td>\n",
       "      <td>0</td>\n",
       "      <td>0</td>\n",
       "      <td>0</td>\n",
       "      <td>0</td>\n",
       "      <td>0</td>\n",
       "      <td>0</td>\n",
       "      <td>0</td>\n",
       "      <td>0</td>\n",
       "      <td>0</td>\n",
       "      <td>0</td>\n",
       "      <td>0</td>\n",
       "      <td>0</td>\n",
       "      <td>0</td>\n",
       "      <td>0</td>\n",
       "      <td>0</td>\n",
       "      <td>0</td>\n",
       "      <td>0</td>\n",
       "      <td>0</td>\n",
       "      <td>0</td>\n",
       "      <td>0</td>\n",
       "      <td>0</td>\n",
       "      <td>0</td>\n",
       "      <td>0</td>\n",
       "      <td>0</td>\n",
       "      <td>0</td>\n",
       "      <td>0</td>\n",
       "      <td>0</td>\n",
       "      <td>0</td>\n",
       "      <td>0</td>\n",
       "      <td>0</td>\n",
       "      <td>0</td>\n",
       "      <td>0</td>\n",
       "      <td>0</td>\n",
       "      <td>0</td>\n",
       "      <td>0</td>\n",
       "      <td>0</td>\n",
       "      <td>0</td>\n",
       "      <td>0</td>\n",
       "      <td>0</td>\n",
       "      <td>0</td>\n",
       "      <td>0</td>\n",
       "    </tr>\n",
       "    <tr>\n",
       "      <th>data_type</th>\n",
       "      <td>object</td>\n",
       "      <td>object</td>\n",
       "      <td>object</td>\n",
       "      <td>object</td>\n",
       "      <td>object</td>\n",
       "      <td>float64</td>\n",
       "      <td>object</td>\n",
       "      <td>object</td>\n",
       "      <td>float64</td>\n",
       "      <td>object</td>\n",
       "      <td>object</td>\n",
       "      <td>object</td>\n",
       "      <td>object</td>\n",
       "      <td>object</td>\n",
       "      <td>object</td>\n",
       "      <td>object</td>\n",
       "      <td>float64</td>\n",
       "      <td>object</td>\n",
       "      <td>float64</td>\n",
       "      <td>float64</td>\n",
       "      <td>float64</td>\n",
       "      <td>float64</td>\n",
       "      <td>object</td>\n",
       "      <td>float64</td>\n",
       "      <td>float64</td>\n",
       "      <td>float64</td>\n",
       "      <td>float64</td>\n",
       "      <td>object</td>\n",
       "      <td>int64</td>\n",
       "      <td>int64</td>\n",
       "      <td>int64</td>\n",
       "      <td>int64</td>\n",
       "      <td>object</td>\n",
       "      <td>int64</td>\n",
       "      <td>object</td>\n",
       "      <td>object</td>\n",
       "      <td>int64</td>\n",
       "      <td>int64</td>\n",
       "      <td>int64</td>\n",
       "      <td>object</td>\n",
       "      <td>int64</td>\n",
       "      <td>int64</td>\n",
       "      <td>int64</td>\n",
       "      <td>int64</td>\n",
       "      <td>int64</td>\n",
       "      <td>int64</td>\n",
       "      <td>int64</td>\n",
       "      <td>int64</td>\n",
       "      <td>object</td>\n",
       "      <td>int64</td>\n",
       "      <td>int64</td>\n",
       "      <td>int64</td>\n",
       "      <td>object</td>\n",
       "      <td>int64</td>\n",
       "      <td>object</td>\n",
       "      <td>object</td>\n",
       "      <td>object</td>\n",
       "      <td>object</td>\n",
       "      <td>object</td>\n",
       "      <td>object</td>\n",
       "      <td>object</td>\n",
       "      <td>object</td>\n",
       "      <td>object</td>\n",
       "      <td>object</td>\n",
       "      <td>object</td>\n",
       "      <td>int64</td>\n",
       "      <td>int64</td>\n",
       "      <td>int64</td>\n",
       "      <td>int64</td>\n",
       "      <td>object</td>\n",
       "      <td>object</td>\n",
       "      <td>object</td>\n",
       "      <td>object</td>\n",
       "      <td>object</td>\n",
       "      <td>object</td>\n",
       "      <td>object</td>\n",
       "      <td>object</td>\n",
       "      <td>int64</td>\n",
       "      <td>object</td>\n",
       "      <td>int64</td>\n",
       "      <td>int64</td>\n",
       "      <td>int64</td>\n",
       "    </tr>\n",
       "  </tbody>\n",
       "</table>\n",
       "</div>"
      ],
      "text/plain": [
       "              Pool QC Misc Feature    Alley    Fence Fireplace Qu Lot Frontage Garage Cond Garage Finish Garage Yr Blt Garage Qual Garage Type Bsmt Exposure BsmtFin Type 2 Bsmt Qual Bsmt Cond BsmtFin Type 1 Mas Vnr Area Mas Vnr Type Bsmt Full Bath Bsmt Half Bath BsmtFin SF 1 Garage Cars Electrical Total Bsmt SF Bsmt Unf SF BsmtFin SF 2 Garage Area Paved Drive Full Bath Half Bath Bedroom AbvGr Kitchen AbvGr Kitchen Qual TotRms AbvGrd Sale Condition Sale Type Yr Sold Mo Sold Misc Val Functional Fireplaces Pool Area Screen Porch 3Ssn Porch Enclosed Porch Open Porch SF Wood Deck SF  Order Heating QC Gr Liv Area Overall Qual MS SubClass MS Zoning Lot Area  Street Lot Shape Land Contour Utilities Lot Config Land Slope Neighborhood Condition 1 Condition 2 Bldg Type House Style Overall Cond Low Qual Fin SF Year Built Year Remod/Add Roof Style Roof Matl Exterior 1st Exterior 2nd Exter Qual Exter Cond Foundation Heating    PID Central Air 1st Flr SF 2nd Flr SF SalePrice\n",
       "count_null       2917         2824     2732     2358         1422          490         159           159           159         159         157            83             81        80        80             80           23           23              2              2            1           1          1             1           1            1           1           0         0         0             0             0            0             0              0         0       0       0        0          0          0         0            0          0              0             0            0      0          0           0            0           0         0        0       0         0            0         0          0          0            0           0           0         0           0            0               0          0              0          0         0            0            0          0          0          0       0      0           0          0          0         0\n",
       "percent_null  99.5563      96.3823  93.2423  80.4778      48.5324      16.7235     5.42662       5.42662       5.42662     5.42662     5.35836       2.83276        2.76451   2.73038   2.73038        2.73038     0.784983     0.784983      0.0682594      0.0682594    0.0341297   0.0341297  0.0341297     0.0341297   0.0341297    0.0341297   0.0341297           0         0         0             0             0            0             0              0         0       0       0        0          0          0         0            0          0              0             0            0      0          0           0            0           0         0        0       0         0            0         0          0          0            0           0           0         0           0            0               0          0              0          0         0            0            0          0          0          0       0      0           0          0          0         0\n",
       "data_type      object       object   object   object       object      float64      object        object       float64      object      object        object         object    object    object         object      float64       object        float64        float64      float64     float64     object       float64     float64      float64     float64      object     int64     int64         int64         int64       object         int64         object    object   int64   int64    int64     object      int64     int64        int64      int64          int64         int64        int64  int64     object       int64        int64       int64    object    int64  object    object       object    object     object     object       object      object      object    object      object        int64           int64      int64          int64     object    object       object       object     object     object     object  object  int64      object      int64      int64     int64"
      ]
     },
     "execution_count": 4,
     "metadata": {},
     "output_type": "execute_result"
    }
   ],
   "source": [
    "# Determining the counts, percentages, and data types of null values\n",
    "\n",
    "mask = df.isnull()\n",
    "total = mask.sum()\n",
    "percent = mask.mean() * 100\n",
    "dtypes = df.dtypes\n",
    "\n",
    "missing_data = pd.concat([total, percent, dtypes], axis=1, join='outer',\\\n",
    "                         keys=['count_null', 'percent_null', 'data_type'])\n",
    "missing_data.sort_values(by='percent_null', ascending=False, inplace=True)\n",
    "missing_data.T"
   ]
  },
  {
   "cell_type": "code",
   "execution_count": 5,
   "metadata": {
    "execution": {
     "iopub.execute_input": "2020-10-06T20:43:12.074634Z",
     "iopub.status.busy": "2020-10-06T20:43:12.073561Z",
     "iopub.status.idle": "2020-10-06T20:43:12.076409Z",
     "shell.execute_reply": "2020-10-06T20:43:12.076927Z"
    },
    "papermill": {
     "duration": 0.035458,
     "end_time": "2020-10-06T20:43:12.077111",
     "exception": false,
     "start_time": "2020-10-06T20:43:12.041653",
     "status": "completed"
    },
    "tags": []
   },
   "outputs": [],
   "source": [
    "# Making the column names lower case\n",
    "\n",
    "df.columns = df.columns.str.lower().\\\n",
    "                     str.replace(' ', '_')"
   ]
  },
  {
   "cell_type": "code",
   "execution_count": 6,
   "metadata": {
    "execution": {
     "iopub.execute_input": "2020-10-06T20:43:12.145979Z",
     "iopub.status.busy": "2020-10-06T20:43:12.143575Z",
     "iopub.status.idle": "2020-10-06T20:43:12.149622Z",
     "shell.execute_reply": "2020-10-06T20:43:12.148971Z"
    },
    "papermill": {
     "duration": 0.046441,
     "end_time": "2020-10-06T20:43:12.149748",
     "exception": false,
     "start_time": "2020-10-06T20:43:12.103307",
     "status": "completed"
    },
    "tags": []
   },
   "outputs": [],
   "source": [
    "# Isolating the categorical columns\n",
    "\n",
    "\n",
    "categorical_cols = list(df.select_dtypes\\\n",
    "                                (include=['object', 'category']).columns)"
   ]
  },
  {
   "cell_type": "code",
   "execution_count": 7,
   "metadata": {
    "execution": {
     "iopub.execute_input": "2020-10-06T20:43:12.255457Z",
     "iopub.status.busy": "2020-10-06T20:43:12.235067Z",
     "iopub.status.idle": "2020-10-06T20:43:12.311538Z",
     "shell.execute_reply": "2020-10-06T20:43:12.310841Z"
    },
    "papermill": {
     "duration": 0.135864,
     "end_time": "2020-10-06T20:43:12.311676",
     "exception": false,
     "start_time": "2020-10-06T20:43:12.175812",
     "status": "completed"
    },
    "tags": []
   },
   "outputs": [],
   "source": [
    "# Making the categorical values lower case\n",
    "\n",
    "for col in categorical_cols:\n",
    "    df[col] = df[col].str.lower()"
   ]
  },
  {
   "cell_type": "code",
   "execution_count": 8,
   "metadata": {
    "execution": {
     "iopub.execute_input": "2020-10-06T20:43:12.393257Z",
     "iopub.status.busy": "2020-10-06T20:43:12.392137Z",
     "iopub.status.idle": "2020-10-06T20:43:12.478365Z",
     "shell.execute_reply": "2020-10-06T20:43:12.477234Z"
    },
    "papermill": {
     "duration": 0.14053,
     "end_time": "2020-10-06T20:43:12.478546",
     "exception": false,
     "start_time": "2020-10-06T20:43:12.338016",
     "status": "completed"
    },
    "tags": []
   },
   "outputs": [
    {
     "data": {
      "text/html": [
       "<div>\n",
       "<style scoped>\n",
       "    .dataframe tbody tr th:only-of-type {\n",
       "        vertical-align: middle;\n",
       "    }\n",
       "\n",
       "    .dataframe tbody tr th {\n",
       "        vertical-align: top;\n",
       "    }\n",
       "\n",
       "    .dataframe thead th {\n",
       "        text-align: right;\n",
       "    }\n",
       "</style>\n",
       "<table border=\"1\" class=\"dataframe\">\n",
       "  <thead>\n",
       "    <tr style=\"text-align: right;\">\n",
       "      <th></th>\n",
       "      <th>order</th>\n",
       "      <th>pid</th>\n",
       "      <th>ms_subclass</th>\n",
       "      <th>ms_zoning</th>\n",
       "      <th>lot_frontage</th>\n",
       "      <th>lot_area</th>\n",
       "      <th>street</th>\n",
       "      <th>alley</th>\n",
       "      <th>lot_shape</th>\n",
       "      <th>land_contour</th>\n",
       "      <th>utilities</th>\n",
       "      <th>lot_config</th>\n",
       "      <th>land_slope</th>\n",
       "      <th>neighborhood</th>\n",
       "      <th>condition_1</th>\n",
       "      <th>condition_2</th>\n",
       "      <th>bldg_type</th>\n",
       "      <th>house_style</th>\n",
       "      <th>overall_qual</th>\n",
       "      <th>overall_cond</th>\n",
       "      <th>year_built</th>\n",
       "      <th>year_remod/add</th>\n",
       "      <th>roof_style</th>\n",
       "      <th>roof_matl</th>\n",
       "      <th>exterior_1st</th>\n",
       "      <th>exterior_2nd</th>\n",
       "      <th>mas_vnr_type</th>\n",
       "      <th>mas_vnr_area</th>\n",
       "      <th>exter_qual</th>\n",
       "      <th>exter_cond</th>\n",
       "      <th>foundation</th>\n",
       "      <th>bsmt_qual</th>\n",
       "      <th>bsmt_cond</th>\n",
       "      <th>bsmt_exposure</th>\n",
       "      <th>bsmtfin_type_1</th>\n",
       "      <th>bsmtfin_sf_1</th>\n",
       "      <th>bsmtfin_type_2</th>\n",
       "      <th>bsmtfin_sf_2</th>\n",
       "      <th>bsmt_unf_sf</th>\n",
       "      <th>total_bsmt_sf</th>\n",
       "      <th>heating</th>\n",
       "      <th>heating_qc</th>\n",
       "      <th>central_air</th>\n",
       "      <th>electrical</th>\n",
       "      <th>1st_flr_sf</th>\n",
       "      <th>2nd_flr_sf</th>\n",
       "      <th>low_qual_fin_sf</th>\n",
       "      <th>gr_liv_area</th>\n",
       "      <th>bsmt_full_bath</th>\n",
       "      <th>bsmt_half_bath</th>\n",
       "      <th>full_bath</th>\n",
       "      <th>half_bath</th>\n",
       "      <th>bedroom_abvgr</th>\n",
       "      <th>kitchen_abvgr</th>\n",
       "      <th>kitchen_qual</th>\n",
       "      <th>totrms_abvgrd</th>\n",
       "      <th>functional</th>\n",
       "      <th>fireplaces</th>\n",
       "      <th>fireplace_qu</th>\n",
       "      <th>garage_type</th>\n",
       "      <th>garage_yr_blt</th>\n",
       "      <th>garage_finish</th>\n",
       "      <th>garage_cars</th>\n",
       "      <th>garage_area</th>\n",
       "      <th>garage_qual</th>\n",
       "      <th>garage_cond</th>\n",
       "      <th>paved_drive</th>\n",
       "      <th>wood_deck_sf</th>\n",
       "      <th>open_porch_sf</th>\n",
       "      <th>enclosed_porch</th>\n",
       "      <th>3ssn_porch</th>\n",
       "      <th>screen_porch</th>\n",
       "      <th>pool_area</th>\n",
       "      <th>pool_qc</th>\n",
       "      <th>fence</th>\n",
       "      <th>misc_feature</th>\n",
       "      <th>misc_val</th>\n",
       "      <th>mo_sold</th>\n",
       "      <th>yr_sold</th>\n",
       "      <th>sale_type</th>\n",
       "      <th>sale_condition</th>\n",
       "      <th>saleprice</th>\n",
       "    </tr>\n",
       "  </thead>\n",
       "  <tbody>\n",
       "    <tr>\n",
       "      <th>0</th>\n",
       "      <td>1</td>\n",
       "      <td>526301100</td>\n",
       "      <td>20</td>\n",
       "      <td>rl</td>\n",
       "      <td>141.0</td>\n",
       "      <td>31770</td>\n",
       "      <td>pave</td>\n",
       "      <td>NaN</td>\n",
       "      <td>ir1</td>\n",
       "      <td>lvl</td>\n",
       "      <td>allpub</td>\n",
       "      <td>corner</td>\n",
       "      <td>gtl</td>\n",
       "      <td>names</td>\n",
       "      <td>norm</td>\n",
       "      <td>norm</td>\n",
       "      <td>1fam</td>\n",
       "      <td>1story</td>\n",
       "      <td>6</td>\n",
       "      <td>5</td>\n",
       "      <td>1960</td>\n",
       "      <td>1960</td>\n",
       "      <td>hip</td>\n",
       "      <td>compshg</td>\n",
       "      <td>brkface</td>\n",
       "      <td>plywood</td>\n",
       "      <td>stone</td>\n",
       "      <td>112.0</td>\n",
       "      <td>ta</td>\n",
       "      <td>ta</td>\n",
       "      <td>cblock</td>\n",
       "      <td>ta</td>\n",
       "      <td>gd</td>\n",
       "      <td>gd</td>\n",
       "      <td>blq</td>\n",
       "      <td>639.0</td>\n",
       "      <td>unf</td>\n",
       "      <td>0.0</td>\n",
       "      <td>441.0</td>\n",
       "      <td>1080.0</td>\n",
       "      <td>gasa</td>\n",
       "      <td>fa</td>\n",
       "      <td>y</td>\n",
       "      <td>sbrkr</td>\n",
       "      <td>1656</td>\n",
       "      <td>0</td>\n",
       "      <td>0</td>\n",
       "      <td>1656</td>\n",
       "      <td>1.0</td>\n",
       "      <td>0.0</td>\n",
       "      <td>1</td>\n",
       "      <td>0</td>\n",
       "      <td>3</td>\n",
       "      <td>1</td>\n",
       "      <td>ta</td>\n",
       "      <td>7</td>\n",
       "      <td>typ</td>\n",
       "      <td>2</td>\n",
       "      <td>gd</td>\n",
       "      <td>attchd</td>\n",
       "      <td>1960.0</td>\n",
       "      <td>fin</td>\n",
       "      <td>2.0</td>\n",
       "      <td>528.0</td>\n",
       "      <td>ta</td>\n",
       "      <td>ta</td>\n",
       "      <td>p</td>\n",
       "      <td>210</td>\n",
       "      <td>62</td>\n",
       "      <td>0</td>\n",
       "      <td>0</td>\n",
       "      <td>0</td>\n",
       "      <td>0</td>\n",
       "      <td>NaN</td>\n",
       "      <td>NaN</td>\n",
       "      <td>NaN</td>\n",
       "      <td>0</td>\n",
       "      <td>5</td>\n",
       "      <td>2010</td>\n",
       "      <td>wd</td>\n",
       "      <td>normal</td>\n",
       "      <td>215000</td>\n",
       "    </tr>\n",
       "    <tr>\n",
       "      <th>1</th>\n",
       "      <td>2</td>\n",
       "      <td>526350040</td>\n",
       "      <td>20</td>\n",
       "      <td>rh</td>\n",
       "      <td>80.0</td>\n",
       "      <td>11622</td>\n",
       "      <td>pave</td>\n",
       "      <td>NaN</td>\n",
       "      <td>reg</td>\n",
       "      <td>lvl</td>\n",
       "      <td>allpub</td>\n",
       "      <td>inside</td>\n",
       "      <td>gtl</td>\n",
       "      <td>names</td>\n",
       "      <td>feedr</td>\n",
       "      <td>norm</td>\n",
       "      <td>1fam</td>\n",
       "      <td>1story</td>\n",
       "      <td>5</td>\n",
       "      <td>6</td>\n",
       "      <td>1961</td>\n",
       "      <td>1961</td>\n",
       "      <td>gable</td>\n",
       "      <td>compshg</td>\n",
       "      <td>vinylsd</td>\n",
       "      <td>vinylsd</td>\n",
       "      <td>none</td>\n",
       "      <td>0.0</td>\n",
       "      <td>ta</td>\n",
       "      <td>ta</td>\n",
       "      <td>cblock</td>\n",
       "      <td>ta</td>\n",
       "      <td>ta</td>\n",
       "      <td>no</td>\n",
       "      <td>rec</td>\n",
       "      <td>468.0</td>\n",
       "      <td>lwq</td>\n",
       "      <td>144.0</td>\n",
       "      <td>270.0</td>\n",
       "      <td>882.0</td>\n",
       "      <td>gasa</td>\n",
       "      <td>ta</td>\n",
       "      <td>y</td>\n",
       "      <td>sbrkr</td>\n",
       "      <td>896</td>\n",
       "      <td>0</td>\n",
       "      <td>0</td>\n",
       "      <td>896</td>\n",
       "      <td>0.0</td>\n",
       "      <td>0.0</td>\n",
       "      <td>1</td>\n",
       "      <td>0</td>\n",
       "      <td>2</td>\n",
       "      <td>1</td>\n",
       "      <td>ta</td>\n",
       "      <td>5</td>\n",
       "      <td>typ</td>\n",
       "      <td>0</td>\n",
       "      <td>NaN</td>\n",
       "      <td>attchd</td>\n",
       "      <td>1961.0</td>\n",
       "      <td>unf</td>\n",
       "      <td>1.0</td>\n",
       "      <td>730.0</td>\n",
       "      <td>ta</td>\n",
       "      <td>ta</td>\n",
       "      <td>y</td>\n",
       "      <td>140</td>\n",
       "      <td>0</td>\n",
       "      <td>0</td>\n",
       "      <td>0</td>\n",
       "      <td>120</td>\n",
       "      <td>0</td>\n",
       "      <td>NaN</td>\n",
       "      <td>mnprv</td>\n",
       "      <td>NaN</td>\n",
       "      <td>0</td>\n",
       "      <td>6</td>\n",
       "      <td>2010</td>\n",
       "      <td>wd</td>\n",
       "      <td>normal</td>\n",
       "      <td>105000</td>\n",
       "    </tr>\n",
       "    <tr>\n",
       "      <th>2</th>\n",
       "      <td>3</td>\n",
       "      <td>526351010</td>\n",
       "      <td>20</td>\n",
       "      <td>rl</td>\n",
       "      <td>81.0</td>\n",
       "      <td>14267</td>\n",
       "      <td>pave</td>\n",
       "      <td>NaN</td>\n",
       "      <td>ir1</td>\n",
       "      <td>lvl</td>\n",
       "      <td>allpub</td>\n",
       "      <td>corner</td>\n",
       "      <td>gtl</td>\n",
       "      <td>names</td>\n",
       "      <td>norm</td>\n",
       "      <td>norm</td>\n",
       "      <td>1fam</td>\n",
       "      <td>1story</td>\n",
       "      <td>6</td>\n",
       "      <td>6</td>\n",
       "      <td>1958</td>\n",
       "      <td>1958</td>\n",
       "      <td>hip</td>\n",
       "      <td>compshg</td>\n",
       "      <td>wd sdng</td>\n",
       "      <td>wd sdng</td>\n",
       "      <td>brkface</td>\n",
       "      <td>108.0</td>\n",
       "      <td>ta</td>\n",
       "      <td>ta</td>\n",
       "      <td>cblock</td>\n",
       "      <td>ta</td>\n",
       "      <td>ta</td>\n",
       "      <td>no</td>\n",
       "      <td>alq</td>\n",
       "      <td>923.0</td>\n",
       "      <td>unf</td>\n",
       "      <td>0.0</td>\n",
       "      <td>406.0</td>\n",
       "      <td>1329.0</td>\n",
       "      <td>gasa</td>\n",
       "      <td>ta</td>\n",
       "      <td>y</td>\n",
       "      <td>sbrkr</td>\n",
       "      <td>1329</td>\n",
       "      <td>0</td>\n",
       "      <td>0</td>\n",
       "      <td>1329</td>\n",
       "      <td>0.0</td>\n",
       "      <td>0.0</td>\n",
       "      <td>1</td>\n",
       "      <td>1</td>\n",
       "      <td>3</td>\n",
       "      <td>1</td>\n",
       "      <td>gd</td>\n",
       "      <td>6</td>\n",
       "      <td>typ</td>\n",
       "      <td>0</td>\n",
       "      <td>NaN</td>\n",
       "      <td>attchd</td>\n",
       "      <td>1958.0</td>\n",
       "      <td>unf</td>\n",
       "      <td>1.0</td>\n",
       "      <td>312.0</td>\n",
       "      <td>ta</td>\n",
       "      <td>ta</td>\n",
       "      <td>y</td>\n",
       "      <td>393</td>\n",
       "      <td>36</td>\n",
       "      <td>0</td>\n",
       "      <td>0</td>\n",
       "      <td>0</td>\n",
       "      <td>0</td>\n",
       "      <td>NaN</td>\n",
       "      <td>NaN</td>\n",
       "      <td>gar2</td>\n",
       "      <td>12500</td>\n",
       "      <td>6</td>\n",
       "      <td>2010</td>\n",
       "      <td>wd</td>\n",
       "      <td>normal</td>\n",
       "      <td>172000</td>\n",
       "    </tr>\n",
       "  </tbody>\n",
       "</table>\n",
       "</div>"
      ],
      "text/plain": [
       "   order        pid  ms_subclass ms_zoning  lot_frontage  lot_area street alley lot_shape land_contour utilities lot_config land_slope neighborhood condition_1 condition_2 bldg_type house_style  overall_qual  overall_cond  year_built  year_remod/add roof_style roof_matl exterior_1st exterior_2nd mas_vnr_type  mas_vnr_area exter_qual exter_cond foundation bsmt_qual bsmt_cond bsmt_exposure bsmtfin_type_1  bsmtfin_sf_1 bsmtfin_type_2  bsmtfin_sf_2  bsmt_unf_sf  total_bsmt_sf heating heating_qc central_air electrical  1st_flr_sf  2nd_flr_sf  low_qual_fin_sf  gr_liv_area  bsmt_full_bath  bsmt_half_bath  full_bath  half_bath  bedroom_abvgr  kitchen_abvgr kitchen_qual  totrms_abvgrd functional  fireplaces fireplace_qu garage_type  garage_yr_blt garage_finish  garage_cars  garage_area garage_qual garage_cond paved_drive  wood_deck_sf  open_porch_sf  enclosed_porch  3ssn_porch  screen_porch  pool_area pool_qc  fence misc_feature  misc_val  mo_sold  yr_sold sale_type sale_condition  saleprice\n",
       "0      1  526301100           20        rl         141.0     31770   pave   NaN       ir1          lvl    allpub     corner        gtl        names        norm        norm      1fam      1story             6             5        1960            1960        hip   compshg      brkface      plywood        stone         112.0         ta         ta     cblock        ta        gd            gd            blq         639.0            unf           0.0        441.0         1080.0    gasa         fa           y      sbrkr        1656           0                0         1656             1.0             0.0          1          0              3              1           ta              7        typ           2           gd      attchd         1960.0           fin          2.0        528.0          ta          ta           p           210             62               0           0             0          0     NaN    NaN          NaN         0        5     2010       wd          normal     215000\n",
       "1      2  526350040           20        rh          80.0     11622   pave   NaN       reg          lvl    allpub     inside        gtl        names       feedr        norm      1fam      1story             5             6        1961            1961      gable   compshg      vinylsd      vinylsd         none           0.0         ta         ta     cblock        ta        ta            no            rec         468.0            lwq         144.0        270.0          882.0    gasa         ta           y      sbrkr         896           0                0          896             0.0             0.0          1          0              2              1           ta              5        typ           0          NaN      attchd         1961.0           unf          1.0        730.0          ta          ta           y           140              0               0           0           120          0     NaN  mnprv          NaN         0        6     2010       wd          normal     105000\n",
       "2      3  526351010           20        rl          81.0     14267   pave   NaN       ir1          lvl    allpub     corner        gtl        names        norm        norm      1fam      1story             6             6        1958            1958        hip   compshg      wd sdng      wd sdng      brkface         108.0         ta         ta     cblock        ta        ta            no            alq         923.0            unf           0.0        406.0         1329.0    gasa         ta           y      sbrkr        1329           0                0         1329             0.0             0.0          1          1              3              1           gd              6        typ           0          NaN      attchd         1958.0           unf          1.0        312.0          ta          ta           y           393             36               0           0             0          0     NaN    NaN         gar2     12500        6     2010       wd          normal     172000"
      ]
     },
     "execution_count": 8,
     "metadata": {},
     "output_type": "execute_result"
    }
   ],
   "source": [
    "df.head(3)"
   ]
  },
  {
   "cell_type": "code",
   "execution_count": 9,
   "metadata": {
    "execution": {
     "iopub.execute_input": "2020-10-06T20:43:12.553637Z",
     "iopub.status.busy": "2020-10-06T20:43:12.552490Z",
     "iopub.status.idle": "2020-10-06T20:43:12.556168Z",
     "shell.execute_reply": "2020-10-06T20:43:12.555239Z"
    },
    "papermill": {
     "duration": 0.041166,
     "end_time": "2020-10-06T20:43:12.556346",
     "exception": false,
     "start_time": "2020-10-06T20:43:12.515180",
     "status": "completed"
    },
    "tags": []
   },
   "outputs": [],
   "source": [
    "# Removing parenthetical elements from the values in the ms_zoning column\n",
    "\n",
    "df.ms_zoning = df.ms_zoning.map(lambda x: x[0] if '(' in x else x)"
   ]
  },
  {
   "cell_type": "markdown",
   "metadata": {
    "papermill": {
     "duration": 0.027718,
     "end_time": "2020-10-06T20:43:12.621337",
     "exception": false,
     "start_time": "2020-10-06T20:43:12.593619",
     "status": "completed"
    },
    "tags": []
   },
   "source": [
    "## Feature engineering\n",
    "\n",
    "During this step, we will perform the following tasks:\n",
    "\n",
    "1. Delete every column where at least 5% values are missing.\n",
    "\n",
    "2. Delete every text column where 1 or more values are missing.\n",
    "\n",
    "3. Fill every numerical column with missing values with the most common value in that column.\n",
    "\n",
    "4. Add new features.\n",
    "\n",
    "5. Create dummy variables."
   ]
  },
  {
   "cell_type": "code",
   "execution_count": 10,
   "metadata": {
    "execution": {
     "iopub.execute_input": "2020-10-06T20:43:12.698684Z",
     "iopub.status.busy": "2020-10-06T20:43:12.684458Z",
     "iopub.status.idle": "2020-10-06T20:43:12.707850Z",
     "shell.execute_reply": "2020-10-06T20:43:12.706864Z"
    },
    "papermill": {
     "duration": 0.059073,
     "end_time": "2020-10-06T20:43:12.708055",
     "exception": false,
     "start_time": "2020-10-06T20:43:12.648982",
     "status": "completed"
    },
    "tags": []
   },
   "outputs": [],
   "source": [
    "# Deleting every column where at least 5% values are missing\n",
    "\n",
    "num_missing = df.isnull().sum()\n",
    "\n",
    "drop_missing_cols = num_missing[(num_missing >\\\n",
    "                                   len(df)/20)].sort_values()\n",
    "\n",
    "df = df.drop(drop_missing_cols.index, axis=1)"
   ]
  },
  {
   "cell_type": "code",
   "execution_count": 11,
   "metadata": {
    "execution": {
     "iopub.execute_input": "2020-10-06T20:43:12.784186Z",
     "iopub.status.busy": "2020-10-06T20:43:12.781496Z",
     "iopub.status.idle": "2020-10-06T20:43:12.787200Z",
     "shell.execute_reply": "2020-10-06T20:43:12.787801Z"
    },
    "papermill": {
     "duration": 0.046996,
     "end_time": "2020-10-06T20:43:12.787965",
     "exception": false,
     "start_time": "2020-10-06T20:43:12.740969",
     "status": "completed"
    },
    "tags": []
   },
   "outputs": [],
   "source": [
    "numerical_cols = list(df.select_dtypes\\\n",
    "                                (include=['int64', 'float64', 'int32']).columns)\n",
    "\n",
    "categorical_cols = list(df.select_dtypes\\\n",
    "                                (include=['object', 'category']).columns)"
   ]
  },
  {
   "cell_type": "code",
   "execution_count": 12,
   "metadata": {
    "execution": {
     "iopub.execute_input": "2020-10-06T20:43:12.866546Z",
     "iopub.status.busy": "2020-10-06T20:43:12.854620Z",
     "iopub.status.idle": "2020-10-06T20:43:12.875426Z",
     "shell.execute_reply": "2020-10-06T20:43:12.874657Z"
    },
    "papermill": {
     "duration": 0.056988,
     "end_time": "2020-10-06T20:43:12.875577",
     "exception": false,
     "start_time": "2020-10-06T20:43:12.818589",
     "status": "completed"
    },
    "tags": []
   },
   "outputs": [],
   "source": [
    "# Delete every text column where 1 or more values are missing\n",
    "\n",
    "text_null_counts = df[categorical_cols].isnull().sum().\\\n",
    "                   sort_values(ascending=False)\n",
    "\n",
    "drop_missing_cols_text = text_null_counts[text_null_counts > 0]\n",
    "\n",
    "df = df.drop(drop_missing_cols_text.index, axis=1)"
   ]
  },
  {
   "cell_type": "code",
   "execution_count": 13,
   "metadata": {
    "execution": {
     "iopub.execute_input": "2020-10-06T20:43:12.943685Z",
     "iopub.status.busy": "2020-10-06T20:43:12.942608Z",
     "iopub.status.idle": "2020-10-06T20:43:12.961523Z",
     "shell.execute_reply": "2020-10-06T20:43:12.960773Z"
    },
    "papermill": {
     "duration": 0.057224,
     "end_time": "2020-10-06T20:43:12.961647",
     "exception": false,
     "start_time": "2020-10-06T20:43:12.904423",
     "status": "completed"
    },
    "tags": []
   },
   "outputs": [],
   "source": [
    "# Filling every numerical column that contains missing values \n",
    "# with the most common value in that column\n",
    "\n",
    "num_null_counts = df[numerical_cols].isnull().sum().\\\n",
    "                   sort_values(ascending=False)\n",
    "\n",
    "num_cols_to_fill = num_null_counts[num_null_counts > 0]\n",
    "\n",
    "replacement_values_dict = df[num_cols_to_fill.index].mode().\\\n",
    "                          to_dict(orient='records')[0]\n",
    "\n",
    "df = df.fillna(replacement_values_dict)"
   ]
  },
  {
   "cell_type": "code",
   "execution_count": 14,
   "metadata": {
    "execution": {
     "iopub.execute_input": "2020-10-06T20:43:13.033583Z",
     "iopub.status.busy": "2020-10-06T20:43:13.032782Z",
     "iopub.status.idle": "2020-10-06T20:43:13.040250Z",
     "shell.execute_reply": "2020-10-06T20:43:13.039587Z"
    },
    "papermill": {
     "duration": 0.050146,
     "end_time": "2020-10-06T20:43:13.040373",
     "exception": false,
     "start_time": "2020-10-06T20:43:12.990227",
     "status": "completed"
    },
    "tags": []
   },
   "outputs": [
    {
     "data": {
      "text/plain": [
       "0"
      ]
     },
     "execution_count": 14,
     "metadata": {},
     "output_type": "execute_result"
    }
   ],
   "source": [
    "df.isnull().sum().sum()"
   ]
  },
  {
   "cell_type": "code",
   "execution_count": 15,
   "metadata": {
    "execution": {
     "iopub.execute_input": "2020-10-06T20:43:13.111029Z",
     "iopub.status.busy": "2020-10-06T20:43:13.110127Z",
     "iopub.status.idle": "2020-10-06T20:43:13.113374Z",
     "shell.execute_reply": "2020-10-06T20:43:13.112763Z"
    },
    "papermill": {
     "duration": 0.043763,
     "end_time": "2020-10-06T20:43:13.113499",
     "exception": false,
     "start_time": "2020-10-06T20:43:13.069736",
     "status": "completed"
    },
    "tags": []
   },
   "outputs": [],
   "source": [
    "# Adding new features\n",
    "\n",
    "df['years_before_sale'] = df.yr_sold - df.year_built\n",
    "df['years_since_remod'] = df.yr_sold - df['year_remod/add']"
   ]
  },
  {
   "cell_type": "code",
   "execution_count": 16,
   "metadata": {
    "execution": {
     "iopub.execute_input": "2020-10-06T20:43:13.183129Z",
     "iopub.status.busy": "2020-10-06T20:43:13.181991Z",
     "iopub.status.idle": "2020-10-06T20:43:13.185874Z",
     "shell.execute_reply": "2020-10-06T20:43:13.186797Z"
    },
    "papermill": {
     "duration": 0.043565,
     "end_time": "2020-10-06T20:43:13.186988",
     "exception": false,
     "start_time": "2020-10-06T20:43:13.143423",
     "status": "completed"
    },
    "tags": []
   },
   "outputs": [
    {
     "name": "stdout",
     "output_type": "stream",
     "text": [
      "Index of each row with a negative years_before_sale:\n",
      "2180   -1\n",
      "Name: years_before_sale, dtype: int64\n",
      "\n",
      "Index of each row with negative years_since_remod:\n",
      "1702   -1\n",
      "2180   -2\n",
      "2181   -1\n",
      "Name: years_since_remod, dtype: int64\n"
     ]
    }
   ],
   "source": [
    "print('Index of each row with a negative years_before_sale:')\n",
    "print(df.years_before_sale[df.years_before_sale < 0])\n",
    "\n",
    "print('\\nIndex of each row with negative years_since_remod:')\n",
    "print(df.years_since_remod[df.years_since_remod < 0])"
   ]
  },
  {
   "cell_type": "code",
   "execution_count": 17,
   "metadata": {
    "execution": {
     "iopub.execute_input": "2020-10-06T20:43:13.256500Z",
     "iopub.status.busy": "2020-10-06T20:43:13.255291Z",
     "iopub.status.idle": "2020-10-06T20:43:13.264708Z",
     "shell.execute_reply": "2020-10-06T20:43:13.264038Z"
    },
    "papermill": {
     "duration": 0.047224,
     "end_time": "2020-10-06T20:43:13.264832",
     "exception": false,
     "start_time": "2020-10-06T20:43:13.217608",
     "status": "completed"
    },
    "tags": []
   },
   "outputs": [],
   "source": [
    "# Deleting rows with negative values\n",
    "\n",
    "df.drop([1702, 2180, 2181], axis=0, inplace=True)\n",
    "\n",
    "# Deleting irrelevant columns\n",
    "\n",
    "cols_to_delete = ['order', 'pid', 'yr_sold', 'year_built', 'mo_sold', \\\n",
    "                  'year_remod/add', 'sale_condition', 'sale_type']\n",
    "df.drop(cols_to_delete, axis=1, inplace=True)"
   ]
  },
  {
   "cell_type": "code",
   "execution_count": 18,
   "metadata": {
    "execution": {
     "iopub.execute_input": "2020-10-06T20:43:13.333509Z",
     "iopub.status.busy": "2020-10-06T20:43:13.332553Z",
     "iopub.status.idle": "2020-10-06T20:43:13.335529Z",
     "shell.execute_reply": "2020-10-06T20:43:13.334908Z"
    },
    "papermill": {
     "duration": 0.040642,
     "end_time": "2020-10-06T20:43:13.335650",
     "exception": false,
     "start_time": "2020-10-06T20:43:13.295008",
     "status": "completed"
    },
    "tags": []
   },
   "outputs": [],
   "source": [
    "# Determining the correlation between saleprice and other numerical columns\n",
    "\n",
    "# Isolating numerical columns\n",
    "\n",
    "numerical_cols = list(df.select_dtypes\\\n",
    "                                (include=['int64', 'float64', 'int32']).columns)"
   ]
  },
  {
   "cell_type": "code",
   "execution_count": 19,
   "metadata": {
    "execution": {
     "iopub.execute_input": "2020-10-06T20:43:13.404271Z",
     "iopub.status.busy": "2020-10-06T20:43:13.403433Z",
     "iopub.status.idle": "2020-10-06T20:43:13.421779Z",
     "shell.execute_reply": "2020-10-06T20:43:13.421117Z"
    },
    "papermill": {
     "duration": 0.056322,
     "end_time": "2020-10-06T20:43:13.421903",
     "exception": false,
     "start_time": "2020-10-06T20:43:13.365581",
     "status": "completed"
    },
    "tags": []
   },
   "outputs": [],
   "source": [
    "# Calculating correlation\n",
    "\n",
    "abs_corr_coeffs = df[numerical_cols].corr()['saleprice'].abs().sort_values()\n",
    "\n",
    "# Removing columns whose absolute correlation coefficients are less than 0.4\n",
    "\n",
    "df.drop(abs_corr_coeffs[abs_corr_coeffs < 0.4].index, axis=1, inplace=True)"
   ]
  },
  {
   "cell_type": "code",
   "execution_count": 20,
   "metadata": {
    "execution": {
     "iopub.execute_input": "2020-10-06T20:43:13.527916Z",
     "iopub.status.busy": "2020-10-06T20:43:13.493134Z",
     "iopub.status.idle": "2020-10-06T20:43:13.530822Z",
     "shell.execute_reply": "2020-10-06T20:43:13.531392Z"
    },
    "papermill": {
     "duration": 0.079107,
     "end_time": "2020-10-06T20:43:13.531557",
     "exception": false,
     "start_time": "2020-10-06T20:43:13.452450",
     "status": "completed"
    },
    "tags": []
   },
   "outputs": [],
   "source": [
    "# Identifying columns in the updated dataframe that can generate \n",
    "# a manageable number of dummy variables\n",
    "\n",
    "# Identifying categorical columns\n",
    "\n",
    "cols_for_dummies= []\n",
    "\n",
    "sample_cols = ['ms_zoning', 'street', 'alley', 'land_contour', 'lot_config',\\\n",
    " 'neighborhood', 'condition_1', 'condition_2', 'bldg_type',\\\n",
    " 'house_style', 'roof_style', 'roof_matl', 'exterior_1st',\\\n",
    " 'exterior_2nd', 'foundation', 'heating', 'central_air', 'garage_type']\n",
    "\n",
    "for col in sample_cols:\n",
    "    if col in df.columns:\n",
    "        cols_for_dummies.append(col)\n",
    "        \n",
    "# Determining the number of unique values in each categorical column\n",
    "\n",
    "uniqueness_counts = df[cols_for_dummies].apply\\\n",
    "                    (lambda col: len(col.value_counts())).sort_values()\n",
    "    \n",
    "# Removing the categorical columns that have > 10 unique values\n",
    "cols_to_remove = uniqueness_counts[uniqueness_counts > 10].index\n",
    "    \n",
    "df.drop(cols_to_remove, axis=1, inplace=True)"
   ]
  },
  {
   "cell_type": "code",
   "execution_count": 21,
   "metadata": {
    "execution": {
     "iopub.execute_input": "2020-10-06T20:43:13.603468Z",
     "iopub.status.busy": "2020-10-06T20:43:13.602361Z",
     "iopub.status.idle": "2020-10-06T20:43:13.637934Z",
     "shell.execute_reply": "2020-10-06T20:43:13.637250Z"
    },
    "papermill": {
     "duration": 0.075895,
     "end_time": "2020-10-06T20:43:13.638073",
     "exception": false,
     "start_time": "2020-10-06T20:43:13.562178",
     "status": "completed"
    },
    "tags": []
   },
   "outputs": [],
   "source": [
    "# Changing the datatype of object type columns to category\n",
    "\n",
    "obj_cols = df.select_dtypes(include=['object'])\n",
    "\n",
    "for col in obj_cols:\n",
    "    df[col] = df[col].astype('category')"
   ]
  },
  {
   "cell_type": "code",
   "execution_count": 22,
   "metadata": {
    "execution": {
     "iopub.execute_input": "2020-10-06T20:43:13.733604Z",
     "iopub.status.busy": "2020-10-06T20:43:13.729993Z",
     "iopub.status.idle": "2020-10-06T20:43:13.851392Z",
     "shell.execute_reply": "2020-10-06T20:43:13.850728Z"
    },
    "papermill": {
     "duration": 0.18271,
     "end_time": "2020-10-06T20:43:13.851524",
     "exception": false,
     "start_time": "2020-10-06T20:43:13.668814",
     "status": "completed"
    },
    "tags": []
   },
   "outputs": [],
   "source": [
    "# Creating dummies\n",
    "\n",
    "cols_for_dummies = df.select_dtypes(include=['category'])\n",
    "\n",
    "for col in cols_for_dummies:\n",
    "    df = pd.get_dummies(df, columns = [col], prefix=col)"
   ]
  },
  {
   "cell_type": "markdown",
   "metadata": {
    "papermill": {
     "duration": 0.030628,
     "end_time": "2020-10-06T20:43:13.913267",
     "exception": false,
     "start_time": "2020-10-06T20:43:13.882639",
     "status": "completed"
    },
    "tags": []
   },
   "source": [
    "## Training models"
   ]
  },
  {
   "cell_type": "code",
   "execution_count": 23,
   "metadata": {
    "execution": {
     "iopub.execute_input": "2020-10-06T20:43:13.981453Z",
     "iopub.status.busy": "2020-10-06T20:43:13.980681Z",
     "iopub.status.idle": "2020-10-06T20:43:15.099984Z",
     "shell.execute_reply": "2020-10-06T20:43:15.099306Z"
    },
    "papermill": {
     "duration": 1.156124,
     "end_time": "2020-10-06T20:43:15.100196",
     "exception": false,
     "start_time": "2020-10-06T20:43:13.944072",
     "status": "completed"
    },
    "tags": []
   },
   "outputs": [],
   "source": [
    "# Simple linear regressor\n",
    "\n",
    "from sklearn.linear_model import LinearRegression\n",
    "\n",
    "numeric_df = df.select_dtypes(include=['integer', 'float'])\n",
    "features = numeric_df.columns.drop(\"saleprice\")\n",
    "\n",
    "lr = LinearRegression()"
   ]
  },
  {
   "cell_type": "code",
   "execution_count": 24,
   "metadata": {
    "execution": {
     "iopub.execute_input": "2020-10-06T20:43:15.169920Z",
     "iopub.status.busy": "2020-10-06T20:43:15.169117Z",
     "iopub.status.idle": "2020-10-06T20:43:15.283244Z",
     "shell.execute_reply": "2020-10-06T20:43:15.282442Z"
    },
    "papermill": {
     "duration": 0.152088,
     "end_time": "2020-10-06T20:43:15.283374",
     "exception": false,
     "start_time": "2020-10-06T20:43:15.131286",
     "status": "completed"
    },
    "tags": []
   },
   "outputs": [],
   "source": [
    "train = df[:1460]\n",
    "test = df[1460:]\n",
    "\n",
    "lr.fit(train[features], train.saleprice);"
   ]
  },
  {
   "cell_type": "code",
   "execution_count": 25,
   "metadata": {
    "execution": {
     "iopub.execute_input": "2020-10-06T20:43:15.354047Z",
     "iopub.status.busy": "2020-10-06T20:43:15.353300Z",
     "iopub.status.idle": "2020-10-06T20:43:15.365916Z",
     "shell.execute_reply": "2020-10-06T20:43:15.365290Z"
    },
    "papermill": {
     "duration": 0.051397,
     "end_time": "2020-10-06T20:43:15.366053",
     "exception": false,
     "start_time": "2020-10-06T20:43:15.314656",
     "status": "completed"
    },
    "tags": []
   },
   "outputs": [],
   "source": [
    "from sklearn.metrics import mean_squared_error\n",
    "\n",
    "predictions = lr.predict(test[features])\n",
    "mse = mean_squared_error(test.saleprice, predictions)\n",
    "rmse = np.sqrt(mse)"
   ]
  },
  {
   "cell_type": "code",
   "execution_count": 26,
   "metadata": {
    "execution": {
     "iopub.execute_input": "2020-10-06T20:43:15.440749Z",
     "iopub.status.busy": "2020-10-06T20:43:15.439687Z",
     "iopub.status.idle": "2020-10-06T20:43:15.443831Z",
     "shell.execute_reply": "2020-10-06T20:43:15.444369Z"
    },
    "papermill": {
     "duration": 0.042037,
     "end_time": "2020-10-06T20:43:15.444528",
     "exception": false,
     "start_time": "2020-10-06T20:43:15.402491",
     "status": "completed"
    },
    "tags": []
   },
   "outputs": [
    {
     "data": {
      "text/plain": [
       "33367.28718340385"
      ]
     },
     "execution_count": 26,
     "metadata": {},
     "output_type": "execute_result"
    }
   ],
   "source": [
    "rmse"
   ]
  },
  {
   "cell_type": "code",
   "execution_count": 27,
   "metadata": {
    "execution": {
     "iopub.execute_input": "2020-10-06T20:43:15.520370Z",
     "iopub.status.busy": "2020-10-06T20:43:15.519233Z",
     "iopub.status.idle": "2020-10-06T20:43:15.608594Z",
     "shell.execute_reply": "2020-10-06T20:43:15.607915Z"
    },
    "papermill": {
     "duration": 0.132149,
     "end_time": "2020-10-06T20:43:15.608721",
     "exception": false,
     "start_time": "2020-10-06T20:43:15.476572",
     "status": "completed"
    },
    "tags": []
   },
   "outputs": [
    {
     "name": "stdout",
     "output_type": "stream",
     "text": [
      "[26343.14753894019, 30025.88326701, 34299.73699146064, 26095.929457588143]\n",
      "29191.17431374974\n"
     ]
    }
   ],
   "source": [
    "# Linear regression with data split according to the k-fold strategy\n",
    "\n",
    "from sklearn.model_selection import KFold\n",
    "\n",
    "kf = KFold(n_splits=4, shuffle=True)\n",
    "rmse_values = []\n",
    "for train_index, test_index, in kf.split(df):\n",
    "    train = df.iloc[train_index]\n",
    "    test = df.iloc[test_index]\n",
    "    lr.fit(train[features], train.saleprice)\n",
    "    predictions = lr.predict(test[features])\n",
    "    mse = mean_squared_error(test.saleprice, predictions)\n",
    "    rmse = np.sqrt(mse)\n",
    "    rmse_values.append(rmse)\n",
    "print(rmse_values)\n",
    "avg_rmse = np.mean(rmse_values)\n",
    "print(avg_rmse)"
   ]
  }
 ],
 "metadata": {
  "kernelspec": {
   "display_name": "Python 3",
   "language": "python",
   "name": "python3"
  },
  "language_info": {
   "codemirror_mode": {
    "name": "ipython",
    "version": 3
   },
   "file_extension": ".py",
   "mimetype": "text/x-python",
   "name": "python",
   "nbconvert_exporter": "python",
   "pygments_lexer": "ipython3",
   "version": "3.7.6"
  },
  "papermill": {
   "duration": 9.073338,
   "end_time": "2020-10-06T20:43:15.752746",
   "environment_variables": {},
   "exception": null,
   "input_path": "__notebook__.ipynb",
   "output_path": "__notebook__.ipynb",
   "parameters": {},
   "start_time": "2020-10-06T20:43:06.679408",
   "version": "2.1.0"
  }
 },
 "nbformat": 4,
 "nbformat_minor": 4
}
